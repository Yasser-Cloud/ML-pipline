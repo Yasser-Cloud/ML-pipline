{
 "cells": [
  {
   "cell_type": "markdown",
   "metadata": {
    "id": "yuWV50VHJaZw"
   },
   "source": [
    "## Summary\n",
    "This notebook use a pre-trained transformer model (arabic-bert-base) for Named Entity Recognition (NER) in Arabic. The model was trained on a corpus of 14,000 sentences (378,000 tokens) and can recognize entities such as person, location, organization, etc. You can find more details about the model and the corpus [here](https://huggingface.co/hatmimoha/arabic-ner). The notebook also shows how to preprocess the input text, split long text into shorter segments, and clean the output. Finally, it shows how to test the model on random text and deploy it using FastAPI."
   ]
  },
  {
   "cell_type": "code",
   "execution_count": 1,
   "metadata": {
    "id": "lwiqAlh4pK-D"
   },
   "outputs": [],
   "source": [
    "#Load pre-train model for Arabic Named Entity Recognition\n",
    "from transformers import AutoModelForTokenClassification, AutoTokenizer\n",
    "import torch\n",
    "model = AutoModelForTokenClassification.from_pretrained(\"hatmimoha/arabic-ner\")\n",
    "tokenizer = AutoTokenizer.from_pretrained(\"hatmimoha/arabic-ner\")"
   ]
  },
  {
   "cell_type": "code",
   "execution_count": 48,
   "metadata": {
    "id": "ZHkfyr2opODH"
   },
   "outputs": [],
   "source": [
    "# Test with data sample\n",
    "\n",
    "sequence=\"© Reuters. اسهم كوكا كولا تتراجع بنسبة 5% في الربع الثاني Investing.com – تراجعت اسهم كوكا خلال التداولات قبل طرحها في الأسواق بعد ان ذكرت سلسلة مطاعم الوجبات السريعة وجود ارباح أفضل من المتوقع في الربع الثاني يوم الأربعاء، فيما غابت التوقعات حول الإيرادات. و على وجه التحديد، ذكرت أكبر شركة مشروبات في العالم ان أرباح للسهم الواحد سجلت 0.60 دولار. وتراجعت الايرادات في الفترة من نيسان/أبريل إلى حزيران/يونيو بنسبة 5.0٪ ليصل إلى 11.45 بليون دولار. وكان المحللون قد توقعوا ارباح بمقدار 0.58 دولار لتصل العائدات الى عائدات من 11.76 بليون دولار. فيما يتعلق بالتوقعات، تتوقع شركة كوكا كولا ان ترتفع الايرادات العضوية بنسبة 3٪، بانخفاض عن التوقعات السابقة لها بنسبة 4٪ لتصل إلى 5٪. وأضافت الشركة أن ربحية السهم مقارنة للسنة كاملة كان من المتوقع أن تنخفض 4٪ إلى 7٪ مقابل مقارنة ب 2.00 دولار في السنة السابقة. ويترقب المستثمرون مؤتمر الشركة الساعة 09:00 بالتوقيت الشرقي، أو 13: 0(بتوقيت جرينتش). وبعد صدور التقرير تراجعت اسهم بنسبة 1.27٪ لتصل إلى 44.31 دولار في السوق بانخفاض عن سعر اغلاق يوم الثلاثاء م البالغ 44.88 دولار .\""
   ]
  },
  {
   "cell_type": "markdown",
   "metadata": {
    "id": "7ECwEOhYU_7V"
   },
   "source": [
    "## Preprocessing\n",
    "This step cleans the text by removing punctuation, English characters and numbers. It also segments the text into sub tokens and merges them to form words."
   ]
  },
  {
   "cell_type": "code",
   "execution_count": 3,
   "metadata": {
    "id": "ni5n5YLMywKF"
   },
   "outputs": [],
   "source": [
    "import re\n",
    "\n",
    "\n",
    "def remove_punctuation(text):\n",
    "    \"\"\"Remove punctuation, English chars and numbers from text.\"\"\"\n",
    "    pattern = r\"[^\\w\\s]|[\\d]|[a-zA-Z]+\"\n",
    "    text = re.sub(pattern, \"\", text)\n",
    "    return text\n"
   ]
  },
  {
   "cell_type": "code",
   "execution_count": 50,
   "metadata": {},
   "outputs": [
    {
     "data": {
      "text/plain": [
       "'  اسهم كوكا كولا تتراجع بنسبة  في الربع الثاني   تراجعت اسهم كوكا خلال التداولات قبل طرحها في الأسواق بعد ان ذكرت سلسلة مطاعم الوجبات السريعة وجود ارباح أفضل من المتوقع في الربع الثاني يوم الأربعاء فيما غابت التوقعات حول الإيرادات و على وجه التحديد ذكرت أكبر شركة مشروبات في العالم ان أرباح للسهم الواحد سجلت  دولار وتراجعت الايرادات في الفترة من نيسانأبريل إلى حزيرانيونيو بنسبة  ليصل إلى  بليون دولار وكان المحللون قد توقعوا ارباح بمقدار  دولار لتصل العائدات الى عائدات من  بليون دولار فيما يتعلق بالتوقعات تتوقع شركة كوكا كولا ان ترتفع الايرادات العضوية بنسبة  بانخفاض عن التوقعات السابقة لها بنسبة  لتصل إلى  وأضافت الشركة أن ربحية السهم مقارنة للسنة كاملة كان من المتوقع أن تنخفض  إلى  مقابل مقارنة ب  دولار في السنة السابقة ويترقب المستثمرون مؤتمر الشركة الساعة  بالتوقيت الشرقي أو  بتوقيت جرينتش وبعد صدور التقرير تراجعت اسهم بنسبة  لتصل إلى  دولار في السوق بانخفاض عن سعر اغلاق يوم الثلاثاء م البالغ  دولار '"
      ]
     },
     "execution_count": 50,
     "metadata": {},
     "output_type": "execute_result"
    }
   ],
   "source": [
    "remove_punctuation(sequence)"
   ]
  },
  {
   "cell_type": "code",
   "execution_count": 4,
   "metadata": {
    "id": "6g4rcIkdrdeI"
   },
   "outputs": [],
   "source": [
    "#To deal with long sequence\n",
    "def split_text(text, max_length=512):\n",
    "    \"\"\"Split text into smaller chunks.\"\"\"\n",
    "    chunks = []\n",
    "    start = 0\n",
    "    text = remove_punctuation(text)\n",
    "    while start < len(text):\n",
    "        end = start + max_length\n",
    "        if end >= len(text):\n",
    "            chunks.append(text[start:])\n",
    "            break\n",
    "        else:\n",
    "            end = text.rfind(\" \", start, end)\n",
    "            if end == -1:\n",
    "                end = start + max_length\n",
    "            chunks.append(text[start:end])\n",
    "            start = end + 1\n",
    "    return chunks"
   ]
  },
  {
   "cell_type": "code",
   "execution_count": 56,
   "metadata": {
    "id": "TL0nv_95rhH6"
   },
   "outputs": [],
   "source": [
    "#test split_text\n",
    "len(split_text(sequence))\n",
    "k = split_text(sequence)[0]"
   ]
  },
  {
   "cell_type": "code",
   "execution_count": 57,
   "metadata": {
    "id": "sdkCs5EWJ6-3"
   },
   "outputs": [],
   "source": [
    "# Bit of a hack to get the tokens with the special tokens\n",
    "tokens = tokenizer.tokenize(tokenizer.decode(tokenizer.encode(k)))\n",
    "inputs = tokenizer.encode(k, return_tensors=\"pt\")\n",
    "outputs = model(inputs).logits\n",
    "predictions = torch.argmax(outputs, dim=2)"
   ]
  },
  {
   "cell_type": "code",
   "execution_count": 58,
   "metadata": {
    "colab": {
     "base_uri": "https://localhost:8080/"
    },
    "id": "OqlpXsa1OR7D",
    "outputId": "c71d31d2-6e98-4f4c-96c9-b40497719701"
   },
   "outputs": [
    {
     "name": "stdout",
     "output_type": "stream",
     "text": [
      "('[CLS]', 'O')\n",
      "('اسهم', 'O')\n",
      "('كوك', 'B-ORGANIZATION')\n",
      "('##ا', 'B-ORGANIZATION')\n",
      "('كول', 'I-ORGANIZATION')\n",
      "('##ا', 'I-ORGANIZATION')\n",
      "('تت', 'O')\n",
      "('##راجع', 'O')\n",
      "('بنسبة', 'O')\n",
      "('في', 'O')\n",
      "('الربع', 'O')\n",
      "('الثاني', 'O')\n",
      "('تراجعت', 'O')\n",
      "('اسهم', 'O')\n",
      "('كوك', 'B-ORGANIZATION')\n",
      "('##ا', 'B-ORGANIZATION')\n",
      "('خلال', 'O')\n",
      "('التداول', 'O')\n",
      "('##ات', 'O')\n",
      "('قبل', 'O')\n",
      "('طرحها', 'O')\n",
      "('في', 'O')\n",
      "('الاسواق', 'O')\n",
      "('بعد', 'O')\n",
      "('ان', 'O')\n",
      "('ذكرت', 'O')\n",
      "('سلسلة', 'B-ORGANIZATION')\n",
      "('مطاعم', 'O')\n",
      "('الوجبات', 'I-ORGANIZATION')\n",
      "('السريعة', 'I-ORGANIZATION')\n",
      "('وجود', 'O')\n",
      "('ارباح', 'O')\n",
      "('افضل', 'O')\n",
      "('من', 'O')\n",
      "('المتوقع', 'O')\n",
      "('في', 'O')\n",
      "('الربع', 'O')\n",
      "('الثاني', 'O')\n",
      "('يوم', 'B-DATE')\n",
      "('الاربعاء', 'I-DATE')\n",
      "('فيما', 'O')\n",
      "('غاب', 'O')\n",
      "('##ت', 'O')\n",
      "('التوقعات', 'O')\n",
      "('حول', 'O')\n",
      "('الايرادات', 'O')\n",
      "('و', 'O')\n",
      "('على', 'O')\n",
      "('وجه', 'O')\n",
      "('التحديد', 'O')\n",
      "('ذكرت', 'O')\n",
      "('اكبر', 'O')\n",
      "('شركة', 'O')\n",
      "('مشروبات', 'O')\n",
      "('في', 'O')\n",
      "('العالم', 'O')\n",
      "('ان', 'O')\n",
      "('ارباح', 'O')\n",
      "('للس', 'O')\n",
      "('##هم', 'O')\n",
      "('الواحد', 'O')\n",
      "('سجلت', 'O')\n",
      "('دولار', 'O')\n",
      "('وتراجع', 'O')\n",
      "('##ت', 'O')\n",
      "('الايرادات', 'O')\n",
      "('في', 'O')\n",
      "('الفترة', 'O')\n",
      "('من', 'O')\n",
      "('نيسان', 'B-DATE')\n",
      "('##ابر', 'B-LOCATION')\n",
      "('##يل', 'B-ORGANIZATION')\n",
      "('الى', 'O')\n",
      "('حزيران', 'B-ORGANIZATION')\n",
      "('##يون', 'B-ORGANIZATION')\n",
      "('##يو', 'B-ORGANIZATION')\n",
      "('بنسبة', 'O')\n",
      "('ليصل', 'O')\n",
      "('الى', 'O')\n",
      "('بلي', 'O')\n",
      "('##ون', 'O')\n",
      "('دولار', 'O')\n",
      "('وكان', 'O')\n",
      "('المحلل', 'O')\n",
      "('##ون', 'O')\n",
      "('قد', 'O')\n",
      "('توقع', 'O')\n",
      "('##وا', 'O')\n",
      "('ارباح', 'O')\n",
      "('بمقدار', 'O')\n",
      "('دولار', 'O')\n",
      "('لتصل', 'O')\n",
      "('العايد', 'O')\n",
      "('##ات', 'O')\n",
      "('الى', 'O')\n",
      "('عايدات', 'O')\n",
      "('من', 'O')\n",
      "('بلي', 'O')\n",
      "('##ون', 'O')\n",
      "('دولار', 'O')\n",
      "('فيما', 'O')\n",
      "('يتعلق', 'O')\n",
      "('بالت', 'O')\n",
      "('##وقعات', 'O')\n",
      "('[SEP]', 'O')\n"
     ]
    }
   ],
   "source": [
    "for token, prediction in zip(tokens, predictions[0].numpy()):\n",
    "    print((token, model.config.id2label[prediction]))"
   ]
  },
  {
   "cell_type": "markdown",
   "metadata": {
    "id": "zgXjZowxV6mi"
   },
   "source": [
    "## Clean the output"
   ]
  },
  {
   "cell_type": "code",
   "execution_count": 59,
   "metadata": {
    "id": "pL9OsV7eNSkq"
   },
   "outputs": [],
   "source": [
    "def get_ents(tokens, predictions):\n",
    "  \"\"\"\n",
    "  Get only the 3 entities ORGANIZATION,LOCATION and PERSON,\n",
    "  fix word tokens sub split like this ##ك to get readable words\n",
    "  \"\"\"\n",
    "  org=[]\n",
    "  loc=[]\n",
    "  man=[]\n",
    "\n",
    "  for token, prediction,index in zip(tokens, predictions[0].numpy(),list(range(len(tokens)))):\n",
    "    if model.config.id2label[prediction].find('ORGANIZATION') != -1:\n",
    "        if (token.find('##')!=-1) and len(org)>0and (org[-1][1] == index-1) :\n",
    "            org[-1]= [org[-1][0]+token[2:],index]\n",
    "        elif token.find('##')==-1:\n",
    "            org.append([token,index])\n",
    "\n",
    "    elif model.config.id2label[prediction].find('LOCATION') != -1:\n",
    "        if (token.find('##')!=-1) and len(loc)>0 and (loc[-1][1] == index-1) :\n",
    "            loc[-1]= [loc[-1][0]+token[2:],index]\n",
    "        elif token.find('##')==-1:\n",
    "            loc.append([token,index])\n",
    "\n",
    "    elif model.config.id2label[prediction].find('PERSON') != -1:\n",
    "        if (token.find('##')!=-1) and len(man)>0 and (man[-1][1] == index-1) :\n",
    "            man[-1]= [man[-1][0]+token[2:],index]\n",
    "        elif token.find('##')==-1:\n",
    "            man.append([token,index])\n",
    "  \n",
    "  return [ i[0]for i in org],[ i[0]for i in loc],[ i[0]for i in man]\n"
   ]
  },
  {
   "cell_type": "code",
   "execution_count": 60,
   "metadata": {
    "id": "UdVW7toAtnA-"
   },
   "outputs": [],
   "source": [
    "def get_pred(sequence):\n",
    "  \"\"\"The function call get_ents function and get tokens and predictions\"\"\"\n",
    "  # Bit of a hack to get the tokens with the special tokens  \n",
    "  tokens = tokenizer.tokenize(tokenizer.decode(tokenizer.encode(sequence)))\n",
    "  inputs = tokenizer.encode(sequence, return_tensors=\"pt\")\n",
    "  outputs = model(inputs).logits\n",
    "  predictions = torch.argmax(outputs, dim=2)\n",
    "  return get_ents(tokens, predictions)\n",
    "  "
   ]
  },
  {
   "cell_type": "code",
   "execution_count": 61,
   "metadata": {
    "id": "pXcb8b8Iv-bx"
   },
   "outputs": [],
   "source": [
    "def func(chunks):\n",
    "  \"\"\"This the main predict each chunk and combine the result and return dict\"\"\"\n",
    "  \"\"\"Important for deploying step\"\"\"\n",
    "\n",
    "\n",
    "  s1 = set()\n",
    "  s2 = set()\n",
    "  s3 = set()\n",
    "\n",
    "  for sequence in chunks:\n",
    "     org,loc,man = get_pred(sequence)\n",
    "     s1.update(org)\n",
    "     s2.update(loc)\n",
    "     s3.update(man)\n",
    "\n",
    "\n",
    "  return {'Persons':list(s3),'Organizations':list(s1) , 'Locations':list(s2)}\n",
    "  \n"
   ]
  },
  {
   "cell_type": "code",
   "execution_count": 62,
   "metadata": {
    "colab": {
     "base_uri": "https://localhost:8080/"
    },
    "id": "IXsXZuzcwhyd",
    "outputId": "dec486ee-102e-4220-af4f-53be94171eac"
   },
   "outputs": [
    {
     "data": {
      "text/plain": [
       "{'Persons': [],\n",
       " 'Organizations': ['كوكا',\n",
       "  'الوجبات',\n",
       "  'سلسلة',\n",
       "  'حزيرانيونيو',\n",
       "  'كولا',\n",
       "  'السريعة'],\n",
       " 'Locations': []}"
      ]
     },
     "execution_count": 62,
     "metadata": {},
     "output_type": "execute_result"
    }
   ],
   "source": [
    "#Test the output\n",
    "func(split_text(sequence))"
   ]
  },
  {
   "cell_type": "markdown",
   "metadata": {},
   "source": [
    "Sound good let's try random sample"
   ]
  },
  {
   "cell_type": "code",
   "execution_count": 68,
   "metadata": {},
   "outputs": [
    {
     "name": "stdout",
     "output_type": "stream",
     "text": [
      "file name :  28.txt\n"
     ]
    },
    {
     "data": {
      "text/plain": [
       "{'Persons': ['وليام',\n",
       "  'المنعم',\n",
       "  'هيل',\n",
       "  'رشدي',\n",
       "  'عبد',\n",
       "  'ايفو',\n",
       "  'اير',\n",
       "  'درار',\n",
       "  'علاء'],\n",
       " 'Organizations': ['معهد',\n",
       "  'الاوروبي',\n",
       "  'شل',\n",
       "  'داكس',\n",
       "  'وتوتال',\n",
       "  'اير',\n",
       "  'الفرنسي',\n",
       "  'سيب',\n",
       "  'المنزلية',\n",
       "  'الفرنسية',\n",
       "  'ووليام',\n",
       "  'فايننشال',\n",
       "  'ريان',\n",
       "  'وليام',\n",
       "  'رويترز',\n",
       "  'وايني',\n",
       "  'داتش',\n",
       "  'للاجهزة',\n",
       "  'رويال',\n",
       "  'تايمز',\n",
       "  'الاتحاد',\n",
       "  'كاك',\n",
       "  'ايفو',\n",
       "  'لرويترز'],\n",
       " 'Locations': ['لندن', 'اوروبا']}"
      ]
     },
     "execution_count": 68,
     "metadata": {},
     "output_type": "execute_result"
    }
   ],
   "source": [
    "import os\n",
    "import random\n",
    "path = \"stockNews/\"\n",
    "file = random.choices(os.listdir('stockNews'), k=1)[0]\n",
    "print(\"file name : \",file)\n",
    "sequence = open(path+file).read().replace('\\n', '')\n",
    "\n",
    "\n",
    "func(split_text(sequence))"
   ]
  },
  {
   "cell_type": "markdown",
   "metadata": {},
   "source": [
    "## Deploying\n",
    "Load model from Hugging face and using FastAPI library\n",
    "![alt text](Postman.png \"postman\")\n",
    "![alt text](API_Swagger_UI.png \"Swagger_UI\")"
   ]
  },
  {
   "cell_type": "markdown",
   "metadata": {},
   "source": [
    "Also use the predefined functions in this notebook"
   ]
  }
 ],
 "metadata": {
  "colab": {
   "provenance": []
  },
  "kernelspec": {
   "display_name": "Python 3 (ipykernel)",
   "language": "python",
   "name": "python3"
  },
  "language_info": {
   "codemirror_mode": {
    "name": "ipython",
    "version": 3
   },
   "file_extension": ".py",
   "mimetype": "text/x-python",
   "name": "python",
   "nbconvert_exporter": "python",
   "pygments_lexer": "ipython3",
   "version": "3.9.7"
  }
 },
 "nbformat": 4,
 "nbformat_minor": 4
}
